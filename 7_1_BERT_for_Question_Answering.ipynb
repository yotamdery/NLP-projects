{
  "cells": [
    {
      "cell_type": "markdown",
      "metadata": {
        "id": "view-in-github",
        "colab_type": "text"
      },
      "source": [
        "<a href=\"https://colab.research.google.com/github/yotamdery/NLP-projects/blob/main/7_1_BERT_for_Question_Answering.ipynb\" target=\"_parent\"><img src=\"https://colab.research.google.com/assets/colab-badge.svg\" alt=\"Open In Colab\"/></a>"
      ]
    },
    {
      "cell_type": "code",
      "execution_count": 1,
      "metadata": {
        "id": "2V9GnYE6viDN",
        "outputId": "43e81b22-b42f-448c-d783-d831b05be794",
        "colab": {
          "base_uri": "https://localhost:8080/",
          "height": 384
        }
      },
      "outputs": [
        {
          "output_type": "error",
          "ename": "ModuleNotFoundError",
          "evalue": "ignored",
          "traceback": [
            "\u001b[0;31m---------------------------------------------------------------------------\u001b[0m",
            "\u001b[0;31mModuleNotFoundError\u001b[0m                       Traceback (most recent call last)",
            "\u001b[0;32m<ipython-input-1-f30fda588141>\u001b[0m in \u001b[0;36m<cell line: 3>\u001b[0;34m()\u001b[0m\n\u001b[1;32m      1\u001b[0m \u001b[0;31m# Importing necessary libraries\u001b[0m\u001b[0;34m\u001b[0m\u001b[0;34m\u001b[0m\u001b[0m\n\u001b[1;32m      2\u001b[0m \u001b[0;32mimport\u001b[0m \u001b[0mtorch\u001b[0m\u001b[0;34m\u001b[0m\u001b[0;34m\u001b[0m\u001b[0m\n\u001b[0;32m----> 3\u001b[0;31m from transformers import (\n\u001b[0m\u001b[1;32m      4\u001b[0m     \u001b[0mBertForQuestionAnswering\u001b[0m\u001b[0;34m,\u001b[0m\u001b[0;34m\u001b[0m\u001b[0;34m\u001b[0m\u001b[0m\n\u001b[1;32m      5\u001b[0m     \u001b[0mBertTokenizerFast\u001b[0m\u001b[0;34m,\u001b[0m\u001b[0;34m\u001b[0m\u001b[0;34m\u001b[0m\u001b[0m\n",
            "\u001b[0;31mModuleNotFoundError\u001b[0m: No module named 'transformers'",
            "",
            "\u001b[0;31m---------------------------------------------------------------------------\u001b[0;32m\nNOTE: If your import is failing due to a missing package, you can\nmanually install dependencies using either !pip or !apt.\n\nTo view examples of installing some common dependencies, click the\n\"Open Examples\" button below.\n\u001b[0;31m---------------------------------------------------------------------------\u001b[0m\n"
          ],
          "errorDetails": {
            "actions": [
              {
                "action": "open_url",
                "actionText": "Open Examples",
                "url": "/notebooks/snippets/importing_libraries.ipynb"
              }
            ]
          }
        }
      ],
      "source": [
        "# Importing necessary libraries\n",
        "import torch\n",
        "from transformers import (\n",
        "    BertForQuestionAnswering,\n",
        "    BertTokenizerFast,\n",
        ")\n",
        "from scipy.special import softmax\n",
        "import plotly.express as px\n",
        "import pandas as pd\n",
        "import numpy as np\n"
      ]
    },
    {
      "cell_type": "code",
      "execution_count": null,
      "metadata": {
        "id": "h4xoeYWLviDQ"
      },
      "outputs": [],
      "source": [
        "# Defining the context and the question\n",
        "context = \"The giraffe is a large African hoofed mammal belonging to the genus Giraffa. It is the tallest living terrestrial animal and the largest ruminant on Earth. Traditionally, giraffes were thought to be one species, Giraffa camelopardalis, with nine subspecies. Most recently, researchers proposed dividing them into up to eight extant species due to new research into their mitochondrial and nuclear DNA, as well as morphological measurements. Seven other extinct species of Giraffa are known from the fossil record.\"\n",
        "question = \"How many giraffe species are there?\"\n"
      ]
    },
    {
      "cell_type": "code",
      "execution_count": null,
      "metadata": {
        "id": "HEXD3U12viDR"
      },
      "outputs": [],
      "source": [
        "# Defining the model name and loading the tokenizer and the model\n",
        "model_name = \"deepset/bert-base-cased-squad2\"\n",
        "tokenizer = BertTokenizerFast.from_pretrained(model_name)\n",
        "model = BertForQuestionAnswering.from_pretrained(model_name)\n"
      ]
    },
    {
      "cell_type": "code",
      "execution_count": null,
      "metadata": {
        "id": "UymUuwAKviDR"
      },
      "outputs": [],
      "source": [
        "# Tokenizing the context and the question\n",
        "inputs = tokenizer(question, context, return_tensors=\"pt\")\n",
        "tokenizer.tokenize(context)\n"
      ]
    },
    {
      "cell_type": "code",
      "execution_count": null,
      "metadata": {
        "id": "V1wTh-i-viDS"
      },
      "outputs": [],
      "source": [
        "# Running the model and getting the start and end scores\n",
        "with torch.no_grad():\n",
        "    outputs = model(**inputs)\n",
        "start_scores, end_scores = softmax(outputs.start_logits)[0], softmax(outputs.end_logits)[0]\n"
      ]
    },
    {
      "cell_type": "code",
      "execution_count": null,
      "metadata": {
        "id": "R6tfI-RJviDS"
      },
      "outputs": [],
      "source": [
        "# Creating a dataframe with the scores and plotting them\n",
        "scores_df = pd.DataFrame({\n",
        "    \"Token Position\": list(range(len(start_scores))) * 2,\n",
        "    \"Score\": list(start_scores) + list(end_scores),\n",
        "    \"Score Type\": [\"Start\"] * len(start_scores) + [\"End\"] * len(end_scores),\n",
        "})\n",
        "px.bar(scores_df, x=\"Token Position\", y=\"Score\", color=\"Score Type\", barmode=\"group\", title=\"Start and End Scores for Tokens\")\n"
      ]
    },
    {
      "cell_type": "code",
      "execution_count": null,
      "metadata": {
        "id": "1QCh1hwMviDS"
      },
      "outputs": [],
      "source": [
        "# Getting the answer from the model\n",
        "start_idx = np.argmax(start_scores)\n",
        "end_idx = np.argmax(end_scores)\n",
        "answer_ids = inputs.input_ids[0][start_idx: end_idx + 1]\n",
        "answer_tokens = tokenizer.convert_ids_to_tokens(answer_ids)\n",
        "answer = tokenizer.convert_tokens_to_string(answer_tokens)\n"
      ]
    },
    {
      "cell_type": "code",
      "execution_count": null,
      "metadata": {
        "id": "sbfjK3jVviDS"
      },
      "outputs": [],
      "source": [
        "# Part 2\n",
        "# Defining a function to predict the answer to a question given a context\n",
        "def predict_answer(context, question):\n",
        "    inputs = tokenizer(question, context, return_tensors=\"pt\", truncation=True, max_length=512)\n",
        "    with torch.no_grad():\n",
        "        outputs = model(**inputs)\n",
        "    start_scores, end_scores = softmax(outputs.start_logits)[0], softmax(outputs.end_logits)[0]\n",
        "    start_idx = np.argmax(start_scores)\n",
        "    end_idx = np.argmax(end_scores)\n",
        "    confidence_score = (start_scores[start_idx] + end_scores[end_idx]) /2\n",
        "    answer_ids = inputs.input_ids[0][start_idx: end_idx + 1]\n",
        "    answer_tokens = tokenizer.convert_ids_to_tokens(answer_ids)\n",
        "    answer = tokenizer.convert_tokens_to_string(answer_tokens)\n",
        "    if answer != tokenizer.cls_token:\n",
        "        return answer, confidence_score\n",
        "    return None, confidence_score\n"
      ]
    },
    {
      "cell_type": "code",
      "execution_count": null,
      "metadata": {
        "id": "bTvsIl2aviDT"
      },
      "outputs": [],
      "source": [
        "# Defining a new context and predicting answers to some questions\n",
        "context = \"\"\"Coffee is a beverage prepared from roasted coffee beans. Darkly colored, bitter, and slightly acidic, coffee has a stimulating effect on humans, primarily due to its caffeine content. It has the highest sales in the world market for hot drinks.[2][unreliable source?]\n",
        "...\n",
        "\"\"\"\n",
        "len(tokenizer.tokenize(context))\n",
        "predict_answer(context, \"What is coffee?\")\n",
        "predict_answer(context, \"What are the most common coffee beans?\")\n",
        "predict_answer(context, \"How can I make ice coffee?\")\n",
        "predict_answer(context[4000:], \"How many people are dependent on coffee for their income?\")\n"
      ]
    },
    {
      "cell_type": "code",
      "execution_count": null,
      "metadata": {
        "id": "GWrUio2FviDT"
      },
      "outputs": [],
      "source": [
        "# Defining a function to chunk sentences\n",
        "def chunk_sentences(sentences, chunk_size, stride):\n",
        "    chunks = []\n",
        "    num_sentences = len(sentences)\n",
        "    for i in range(0, num_sentences, chunk_size - stride):\n",
        "        chunk = sentences[i: i + chunk_size]\n",
        "        chunks.append(chunk)\n",
        "    return chunks\n",
        "\n",
        "\n"
      ]
    },
    {
      "cell_type": "code",
      "execution_count": null,
      "metadata": {
        "id": "QfvBfKuZviDU"
      },
      "outputs": [],
      "source": [
        "sentences = [\n",
        "    \"Sentence 1.\",\n",
        "    \"Sentence 2.\",\n",
        "    \"Sentence 3.\",\n",
        "    \"Sentence 4.\",\n",
        "    \"Sentence 5.\",\n",
        "    \"Sentence 6.\",\n",
        "    \"Sentence 7.\",\n",
        "    \"Sentence 8.\",\n",
        "    \"Sentence 9.\",\n",
        "    \"Sentence 10.\"\n",
        "]\n",
        "\n",
        "chunked_sentences = chunk_sentences(sentences, chunk_size=3, stride=1)\n",
        "\n",
        "\n",
        "questions = [\"What is coffee?\", \"What are the most common coffee beans?\", \"How can I make ice coffee?\", \"How many people are dependent on coffee for their income?\"]\n",
        "\n",
        "answers = {}\n",
        "\n",
        "for chunk in chunked_sentences:\n",
        "    context = \"\\n\".join(chunk)\n",
        "    for question in questions:\n",
        "        answer, score = predict_answer(context, question)\n",
        "\n",
        "        if answer:\n",
        "            if question not in answers:\n",
        "                answers[question] = (answer, score)\n",
        "            else:\n",
        "                if score > answers[question][1]:\n",
        "                    answers[question] = (answer, score)\n",
        "\n",
        "answers"
      ]
    }
  ],
  "nbformat": 4,
  "nbformat_minor": 0,
  "metadata": {
    "language_info": {
      "name": "python"
    },
    "orig_nbformat": 4,
    "colab": {
      "provenance": [],
      "include_colab_link": true
    },
    "kernelspec": {
      "name": "python3",
      "display_name": "Python 3"
    }
  }
}